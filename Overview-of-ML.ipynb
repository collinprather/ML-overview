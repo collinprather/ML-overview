{
 "cells": [
  {
   "cell_type": "markdown",
   "metadata": {
    "slideshow": {
     "slide_type": "skip"
    }
   },
   "source": [
    "`cd` into `~/Documents/Presentations/`, then use this command:\n",
    "\n",
    "`jupyter nbconvert Overview-of-ML.ipynb --to slides --post serve --SlidesExporter.reveal_theme=simple --SlidesExporter.reveal_scroll=True --SlidesExporter.reveal_transition=none`\n",
    "\n",
    "to host slides.\n",
    "\n",
    "use this to export to index.slides.html:\n",
    "\n",
    "`jupyter nbconvert --to slides Overview-of-ML.ipynb --reveal-prefix=reveal.js --SlidesExporter.reveal_theme=simple \n",
    "--SlidesExporter.reveal_scroll=True \n",
    "--SlidesExporter.reveal_transition=none`\n",
    "\n",
    "* for [choosing color palette](http://seaborn.pydata.org/tutorial/color_palettes.html)\n",
    "\n",
    "* Use [this](https://medium.com/learning-machine-learning/present-your-data-science-projects-with-jupyter-slides-75f20735eb0f) and [that](https://blog.kdheepak.com/jupyter-notebook-reveal-js-and-github-pages.html) for jupyter slide helps and hosting on github pages."
   ]
  },
  {
   "cell_type": "markdown",
   "metadata": {
    "slideshow": {
     "slide_type": "slide"
    }
   },
   "source": [
    "![coursera](Figures/mlcoursera1.png)"
   ]
  },
  {
   "cell_type": "markdown",
   "metadata": {
    "slideshow": {
     "slide_type": "fragment"
    }
   },
   "source": [
    ">  Machine learning is the \"field of study that gives computers the ability to learn without being explicitly programmed\".\n",
    "    - Arthur Samuel, 1959"
   ]
  },
  {
   "cell_type": "markdown",
   "metadata": {
    "slideshow": {
     "slide_type": "notes"
    }
   },
   "source": [
    "I'm excited to be talking with you today about the topic of machine learning. We're going to take a pretty high-level look at the field as a whole. My intent really is that by the end of our time, you'll be fluent enough in machine learning concepts and lingo to develop some intuition into what problems could be solved using machine learning, where it could be integrated into our current projects, and give you some direction if you decide that you'd like to learn more.\n",
    "\n",
    "I'm going to by giving a brief overview of the field of machine learning, then we are going to cover some core components, and then we'll move quickly through a lot of the common models and typical use cases. We'll end by looking at some recent projects that have had the ML community buzzing, which give us a peak at what's possible with ML.\n",
    "\n",
    "Now, to start, I thought that it may be appropriate to define exactly why I mean when I say \"Machine Learning\". Turns out, this is not a trivial thing to define, but as early as 1959, Arthur Samuel famously defined machine learning as \"field of study that gives computers the ability to learn without being explicitly programmed\". If I were to define it, I might be a little more specific and say that Machine learning algorithms are used to learn from historical data in order to make predictions about novel data."
   ]
  },
  {
   "cell_type": "markdown",
   "metadata": {
    "slideshow": {
     "slide_type": "subslide"
    }
   },
   "source": [
    "## Why ML Now?"
   ]
  },
  {
   "cell_type": "markdown",
   "metadata": {
    "slideshow": {
     "slide_type": "fragment"
    }
   },
   "source": [
    "* Data availability has spiked"
   ]
  },
  {
   "cell_type": "markdown",
   "metadata": {
    "slideshow": {
     "slide_type": "fragment"
    }
   },
   "source": [
    "* Development of cutting-edge open-source tools and platforms\n",
    "\n",
    "![eco](Figures/ecosystem.png)"
   ]
  },
  {
   "cell_type": "markdown",
   "metadata": {
    "slideshow": {
     "slide_type": "notes"
    }
   },
   "source": [
    "To give you some background about myself, I am a math major at Cornerstone University. I so enjoy studying ML because it takes constructs from statistics, and linear algebra, and calculus, and applies them to data to solve real-world problems. It's fascinating to me! However, due to the rigor of a lot of the math involved, for many years, machine learning was a field reserved for experts. On top of that, until recent years the quantity of data needed was non-existent, so even the experts didn't have much real-world success.\n",
    "Two things have happened that have really shifted the scales in ML's favor, and made it what it is today.\n",
    "1. Data availability has spiked\n",
    "    - With the onset of the digital revolution and the explosion of the internet, collecting data has become cheap and ubiquitous.\n",
    "2. Development of cutting edge open-source tools and platforms have vastly lowered the barriers to entry into the field\n",
    "    - Those who want to build ML solutions no longer have to debug incompatible matrix dimensions in C or Fortran. Much of that is abstracted away in modern ML libraries that make it possible to build incredibly complex (and stable) predictive models in just a few lines of code. (We'll see some examples of this later)\n",
    "    - In this same vein, I read an [article](https://www.kdnuggets.com/2019/01/your-ai-skills-worth-less-than-you-think.html) recently by an ex-google employee who stated that the problems that google's best engineers were working on in 2015 are now being solved by interns in just a few lines of code. This is how quickly the landscape is changing!"
   ]
  },
  {
   "cell_type": "markdown",
   "metadata": {
    "slideshow": {
     "slide_type": "notes"
    }
   },
   "source": [
    "All this to say... ML is as accessible as ever. With a high-level understanding of ML, you can very succesfully apply it in practice."
   ]
  },
  {
   "cell_type": "markdown",
   "metadata": {
    "slideshow": {
     "slide_type": "slide"
    }
   },
   "source": [
    "# Major Concepts in Machine Learning"
   ]
  },
  {
   "cell_type": "code",
   "execution_count": 169,
   "metadata": {
    "slideshow": {
     "slide_type": "skip"
    }
   },
   "outputs": [],
   "source": [
    "# Here, we import and configure all the libraries we'll need for the entire presentation\n",
    "\n",
    "import pandas as pd\n",
    "import matplotlib.pyplot as plt\n",
    "from matplotlib.colors import ListedColormap\n",
    "import numpy as np\n",
    "import seaborn as sns\n",
    "\n",
    "# Setting matplotlib style\n",
    "plt.style.use(['seaborn-darkgrid', 'bmh'])\n",
    "# construct cmap\n",
    "my_cmap = ListedColormap(sns.color_palette(\"coolwarm\").as_hex())"
   ]
  },
  {
   "cell_type": "markdown",
   "metadata": {
    "slideshow": {
     "slide_type": "subslide"
    }
   },
   "source": [
    "## Supervised Learning"
   ]
  },
  {
   "cell_type": "code",
   "execution_count": 170,
   "metadata": {
    "slideshow": {
     "slide_type": "fragment"
    }
   },
   "outputs": [
    {
     "data": {
      "text/html": [
       "<div>\n",
       "<style scoped>\n",
       "    .dataframe tbody tr th:only-of-type {\n",
       "        vertical-align: middle;\n",
       "    }\n",
       "\n",
       "    .dataframe tbody tr th {\n",
       "        vertical-align: top;\n",
       "    }\n",
       "\n",
       "    .dataframe thead th {\n",
       "        text-align: right;\n",
       "    }\n",
       "</style>\n",
       "<table border=\"1\" class=\"dataframe\">\n",
       "  <thead>\n",
       "    <tr style=\"text-align: right;\">\n",
       "      <th></th>\n",
       "      <th>CRIM</th>\n",
       "      <th>ZN</th>\n",
       "      <th>INDUS</th>\n",
       "      <th>CHAS</th>\n",
       "      <th>NOX</th>\n",
       "      <th>RM</th>\n",
       "      <th>AGE</th>\n",
       "      <th>DIS</th>\n",
       "      <th>RAD</th>\n",
       "      <th>TAX</th>\n",
       "      <th>PTRATIO</th>\n",
       "      <th>B</th>\n",
       "      <th>LSTAT</th>\n",
       "      <th>TARGET (house price)</th>\n",
       "    </tr>\n",
       "  </thead>\n",
       "  <tbody>\n",
       "    <tr>\n",
       "      <th>0</th>\n",
       "      <td>0.00632</td>\n",
       "      <td>18.0</td>\n",
       "      <td>2.31</td>\n",
       "      <td>0.0</td>\n",
       "      <td>0.538</td>\n",
       "      <td>6.575</td>\n",
       "      <td>65.2</td>\n",
       "      <td>4.0900</td>\n",
       "      <td>1.0</td>\n",
       "      <td>296.0</td>\n",
       "      <td>15.3</td>\n",
       "      <td>396.90</td>\n",
       "      <td>4.98</td>\n",
       "      <td>240000.0</td>\n",
       "    </tr>\n",
       "    <tr>\n",
       "      <th>1</th>\n",
       "      <td>0.02731</td>\n",
       "      <td>0.0</td>\n",
       "      <td>7.07</td>\n",
       "      <td>0.0</td>\n",
       "      <td>0.469</td>\n",
       "      <td>6.421</td>\n",
       "      <td>78.9</td>\n",
       "      <td>4.9671</td>\n",
       "      <td>2.0</td>\n",
       "      <td>242.0</td>\n",
       "      <td>17.8</td>\n",
       "      <td>396.90</td>\n",
       "      <td>9.14</td>\n",
       "      <td>216000.0</td>\n",
       "    </tr>\n",
       "    <tr>\n",
       "      <th>2</th>\n",
       "      <td>0.02729</td>\n",
       "      <td>0.0</td>\n",
       "      <td>7.07</td>\n",
       "      <td>0.0</td>\n",
       "      <td>0.469</td>\n",
       "      <td>7.185</td>\n",
       "      <td>61.1</td>\n",
       "      <td>4.9671</td>\n",
       "      <td>2.0</td>\n",
       "      <td>242.0</td>\n",
       "      <td>17.8</td>\n",
       "      <td>392.83</td>\n",
       "      <td>4.03</td>\n",
       "      <td>347000.0</td>\n",
       "    </tr>\n",
       "    <tr>\n",
       "      <th>3</th>\n",
       "      <td>0.03237</td>\n",
       "      <td>0.0</td>\n",
       "      <td>2.18</td>\n",
       "      <td>0.0</td>\n",
       "      <td>0.458</td>\n",
       "      <td>6.998</td>\n",
       "      <td>45.8</td>\n",
       "      <td>6.0622</td>\n",
       "      <td>3.0</td>\n",
       "      <td>222.0</td>\n",
       "      <td>18.7</td>\n",
       "      <td>394.63</td>\n",
       "      <td>2.94</td>\n",
       "      <td>334000.0</td>\n",
       "    </tr>\n",
       "    <tr>\n",
       "      <th>4</th>\n",
       "      <td>0.06905</td>\n",
       "      <td>0.0</td>\n",
       "      <td>2.18</td>\n",
       "      <td>0.0</td>\n",
       "      <td>0.458</td>\n",
       "      <td>7.147</td>\n",
       "      <td>54.2</td>\n",
       "      <td>6.0622</td>\n",
       "      <td>3.0</td>\n",
       "      <td>222.0</td>\n",
       "      <td>18.7</td>\n",
       "      <td>396.90</td>\n",
       "      <td>5.33</td>\n",
       "      <td>362000.0</td>\n",
       "    </tr>\n",
       "  </tbody>\n",
       "</table>\n",
       "</div>"
      ],
      "text/plain": [
       "      CRIM    ZN  INDUS  CHAS    NOX     RM   AGE     DIS  RAD    TAX  \\\n",
       "0  0.00632  18.0   2.31   0.0  0.538  6.575  65.2  4.0900  1.0  296.0   \n",
       "1  0.02731   0.0   7.07   0.0  0.469  6.421  78.9  4.9671  2.0  242.0   \n",
       "2  0.02729   0.0   7.07   0.0  0.469  7.185  61.1  4.9671  2.0  242.0   \n",
       "3  0.03237   0.0   2.18   0.0  0.458  6.998  45.8  6.0622  3.0  222.0   \n",
       "4  0.06905   0.0   2.18   0.0  0.458  7.147  54.2  6.0622  3.0  222.0   \n",
       "\n",
       "   PTRATIO       B  LSTAT  TARGET (house price)  \n",
       "0     15.3  396.90   4.98              240000.0  \n",
       "1     17.8  396.90   9.14              216000.0  \n",
       "2     17.8  392.83   4.03              347000.0  \n",
       "3     18.7  394.63   2.94              334000.0  \n",
       "4     18.7  396.90   5.33              362000.0  "
      ]
     },
     "execution_count": 170,
     "metadata": {},
     "output_type": "execute_result"
    }
   ],
   "source": [
    "from sklearn.datasets import load_boston\n",
    "\n",
    "boston = load_boston()\n",
    "\n",
    "pd.concat([pd.DataFrame(boston.data, columns = boston.feature_names),\n",
    "           pd.Series(boston.target * 10000, name = \"TARGET (house price)\")], axis=1).head()"
   ]
  },
  {
   "cell_type": "markdown",
   "metadata": {
    "slideshow": {
     "slide_type": "notes"
    }
   },
   "source": [
    "So, let's talk through some of the major concepts in ML. We're first going to talk through some terms to give us a baseline to be able to talk about and differentiate between different ml problems. The first thing that you should know is that there are typically two types of machine learning problems - supervised and unsupervised. \n",
    "\n",
    "\n",
    "We call a task 'supervised', if our training data is labeled. \n",
    " ---- add explanation of data --- \n",
    " This is the most \"solved\" of all domains - meaning that given enough data, and a decent algorithm, if there is a signal in the noise, the model will likely find it."
   ]
  },
  {
   "cell_type": "markdown",
   "metadata": {
    "slideshow": {
     "slide_type": "subslide"
    }
   },
   "source": [
    "## Unsupervised Learning"
   ]
  },
  {
   "cell_type": "code",
   "execution_count": 171,
   "metadata": {
    "slideshow": {
     "slide_type": "fragment"
    }
   },
   "outputs": [
    {
     "data": {
      "text/html": [
       "<div>\n",
       "<style scoped>\n",
       "    .dataframe tbody tr th:only-of-type {\n",
       "        vertical-align: middle;\n",
       "    }\n",
       "\n",
       "    .dataframe tbody tr th {\n",
       "        vertical-align: top;\n",
       "    }\n",
       "\n",
       "    .dataframe thead th {\n",
       "        text-align: right;\n",
       "    }\n",
       "</style>\n",
       "<table border=\"1\" class=\"dataframe\">\n",
       "  <thead>\n",
       "    <tr style=\"text-align: right;\">\n",
       "      <th></th>\n",
       "      <th>Customer_Feature_1</th>\n",
       "      <th>Customer_Feature_2</th>\n",
       "      <th>Customer_Feature_3</th>\n",
       "      <th>Customer_Feature_4</th>\n",
       "    </tr>\n",
       "  </thead>\n",
       "  <tbody>\n",
       "    <tr>\n",
       "      <th>0</th>\n",
       "      <td>5.1</td>\n",
       "      <td>3.5</td>\n",
       "      <td>1.4</td>\n",
       "      <td>0.2</td>\n",
       "    </tr>\n",
       "    <tr>\n",
       "      <th>1</th>\n",
       "      <td>4.9</td>\n",
       "      <td>3.0</td>\n",
       "      <td>1.4</td>\n",
       "      <td>0.2</td>\n",
       "    </tr>\n",
       "    <tr>\n",
       "      <th>2</th>\n",
       "      <td>4.7</td>\n",
       "      <td>3.2</td>\n",
       "      <td>1.3</td>\n",
       "      <td>0.2</td>\n",
       "    </tr>\n",
       "    <tr>\n",
       "      <th>3</th>\n",
       "      <td>4.6</td>\n",
       "      <td>3.1</td>\n",
       "      <td>1.5</td>\n",
       "      <td>0.2</td>\n",
       "    </tr>\n",
       "    <tr>\n",
       "      <th>4</th>\n",
       "      <td>5.0</td>\n",
       "      <td>3.6</td>\n",
       "      <td>1.4</td>\n",
       "      <td>0.2</td>\n",
       "    </tr>\n",
       "  </tbody>\n",
       "</table>\n",
       "</div>"
      ],
      "text/plain": [
       "   Customer_Feature_1  Customer_Feature_2  Customer_Feature_3  \\\n",
       "0                 5.1                 3.5                 1.4   \n",
       "1                 4.9                 3.0                 1.4   \n",
       "2                 4.7                 3.2                 1.3   \n",
       "3                 4.6                 3.1                 1.5   \n",
       "4                 5.0                 3.6                 1.4   \n",
       "\n",
       "   Customer_Feature_4  \n",
       "0                 0.2  \n",
       "1                 0.2  \n",
       "2                 0.2  \n",
       "3                 0.2  \n",
       "4                 0.2  "
      ]
     },
     "execution_count": 171,
     "metadata": {},
     "output_type": "execute_result"
    }
   ],
   "source": [
    "from sklearn.datasets import load_iris\n",
    "\n",
    "customer_data = load_iris()\n",
    "\n",
    "pd.DataFrame(customer_data.data, columns = [\"Customer_Feature_1\", \n",
    "                                            \"Customer_Feature_2\", \n",
    "                                            \"Customer_Feature_3\", \n",
    "                                            \"Customer_Feature_4\"]).head()"
   ]
  },
  {
   "cell_type": "code",
   "execution_count": 172,
   "metadata": {
    "slideshow": {
     "slide_type": "skip"
    }
   },
   "outputs": [],
   "source": [
    "def plot_unsupervised_learning_data():\n",
    "    # initializing data\n",
    "    X = np.concatenate((customer_data.data[:,0].reshape(150,1), \n",
    "                    customer_data.data[:, 1].reshape(150,1)), axis=1)\n",
    "    y = (customer_data.target != 0) * 1\n",
    "\n",
    "\n",
    "    # plotting\n",
    "    fig, (ax1, ax2) = plt.subplots(1, 2, figsize = (16,6))\n",
    "\n",
    "    ax1.scatter(customer_data.data[:,0], customer_data.data[:, 1], \n",
    "            c=y, cmap = my_cmap)\n",
    "    ax1.set_xlabel(\"Customer_Feature_1\")\n",
    "    ax1.set_ylabel(\"Customer_Feature_2\")\n",
    "\n",
    "    ax2.scatter(customer_data.data[:,2], customer_data.data[:, 3],\n",
    "           c=y, cmap = my_cmap)\n",
    "    ax2.set_xlabel(\"Customer_Feature_3\")\n",
    "    ax2.set_ylabel(\"Customer_Feature_4\")"
   ]
  },
  {
   "cell_type": "code",
   "execution_count": 173,
   "metadata": {
    "slideshow": {
     "slide_type": "fragment"
    }
   },
   "outputs": [
    {
     "data": {
      "image/png": "[encoded data removed]",
      "text/plain": [
       "<Figure size 1152x432 with 2 Axes>"
      ]
     },
     "metadata": {},
     "output_type": "display_data"
    }
   ],
   "source": [
    "plot_unsupervised_learning_data()"
   ]
  },
  {
   "cell_type": "markdown",
   "metadata": {
    "slideshow": {
     "slide_type": "notes"
    }
   },
   "source": [
    "We call a task 'unsupervised' if our training data in not labeled. In this situation we are not concerned with predicting a label for each new data point, but most often trying to cluster similar datapoints together, or identify anomalies. With this customer data, you may try to cluster you customer into subsets or segment your customers into different groups.\n",
    "\n",
    "It certainly looks like the data can be clustered into different groups! Plotting the data like this can give us some intuition for the heart of unsupervised learning - to infer which cluster a new datapoint should be associated with.\n",
    "\n",
    "Anomaly detection also falls under this umbrella!"
   ]
  },
  {
   "cell_type": "markdown",
   "metadata": {
    "slideshow": {
     "slide_type": "subslide"
    }
   },
   "source": [
    "## Classification\n",
    "\n",
    "![cats-dogs](Figures/cats-dogs.jpeg)"
   ]
  },
  {
   "cell_type": "markdown",
   "metadata": {
    "slideshow": {
     "slide_type": "notes"
    }
   },
   "source": [
    "Now, the whole supervised v. unsupervised is a very high-level way to categorize ml aglorithms. Within those supervised and unsupervised buckets, there is another dichotomy we use to make further distinctions between algorithms, that is the type of problem that a given algorithm solves, either classification, or regression.\n",
    "\n",
    "*Classification* problems are concerned with predicting which class each given data point comes from.\n",
    "One example of a classification problem is training an algorithm to predict if an image contains a cat or a dog. Your training data for this type of task may look something like this. Other examples could be predicting whether or not a customer will default on their loan, or predicting whether someone is kicking, given the radar data that a sensor is collecting."
   ]
  },
  {
   "cell_type": "markdown",
   "metadata": {
    "slideshow": {
     "slide_type": "subslide"
    }
   },
   "source": [
    "## Regression\n",
    "\n",
    "![lin-reg](Figures/lin_reg.png)"
   ]
  },
  {
   "cell_type": "markdown",
   "metadata": {
    "slideshow": {
     "slide_type": "notes"
    }
   },
   "source": [
    "Regression problems, on the other hand are concerned with predicting a real number, a floating point value associated with each data point.\n",
    "Some examples of regression problems could be: predicting housing prices, predicting how many widgets you'll need in inventory, or predicting how much energy your industrial machinery will consume in a given day.\n",
    "\n",
    "Classification and Regression algorithms generally work the same way, except for some subtle differences on how the model's output is calculated. In fact, some models can even be adjusted to work in both classification and regression contexts. "
   ]
  },
  {
   "cell_type": "markdown",
   "metadata": {
    "slideshow": {
     "slide_type": "subslide"
    }
   },
   "source": [
    "## Taxonomy of ML Aglorithms\n",
    "\n",
    "![ml-algos-table](Figures/ML_algos_table.png)"
   ]
  },
  {
   "cell_type": "markdown",
   "metadata": {
    "slideshow": {
     "slide_type": "notes"
    }
   },
   "source": [
    "With these 4 categories, we have a baseline taxonomy to group together ML tasks and associated algorithms. Here are some examples of algorithms that fall into each of there respective categories. We'll look at a few of these deep in depth later."
   ]
  },
  {
   "cell_type": "markdown",
   "metadata": {
    "slideshow": {
     "slide_type": "subslide"
    }
   },
   "source": [
    "## Deep Learning\n",
    "\n",
    "![nn](Figures/nn.png)"
   ]
  },
  {
   "cell_type": "markdown",
   "metadata": {
    "slideshow": {
     "slide_type": "notes"
    }
   },
   "source": [
    "There are actually two other types of machine learning that don't fit into the traditional channels that we throw algorithms into, but I think are worth mentioning. In fact, academia has turned their attention towards trying to make these two types of ml as easy as supervised learning.\n",
    "\n",
    "The first is `Deep Learning`. You can kind of think of deep learning as machine learning on steroids. If you search for terms like \"Deep Learning\" you'll either find these weird images of like human-looking robots, or you'll find graphical representations of neural networks, like you see here. The output of neural networks are predictions, just like that of basic machine learning models. This graph is just a fancy way to represent all of the computations that take place to make those predictions. \n",
    "\n",
    "Data is the oil that fuels deep learning. To train a deep learning model successfully, you need a lot of data. This can become troublesome in the supervised-learning space, because it is often tough to find hundreds-of-thousands of labeled data points. \n",
    "\n",
    "To give you some context for the orders of magnitude that often separate traditional ML models from DL models, you should know that:\n",
    "\n",
    "* A linear regression model may have 5-10 parameters, while a deep computer vision model may have 500,000 parameters\n",
    "* A ml model may take 10 seconds to train, while a dl model may take 10 hours to train"
   ]
  },
  {
   "cell_type": "markdown",
   "metadata": {
    "slideshow": {
     "slide_type": "subslide"
    }
   },
   "source": [
    "## Reinforcement Learning\n",
    "\n",
    "![rl](Figures/rl.png)"
   ]
  },
  {
   "cell_type": "markdown",
   "metadata": {
    "slideshow": {
     "slide_type": "subslide"
    }
   },
   "source": [
    "## Reinforcement Learning... gone wrong"
   ]
  },
  {
   "cell_type": "code",
   "execution_count": 5,
   "metadata": {
    "slideshow": {
     "slide_type": "fragment"
    }
   },
   "outputs": [
    {
     "data": {
      "image/jpeg": "[encoded data removed]",
      "text/html": [
       "\n",
       "        <iframe\n",
       "            width=\"850\"\n",
       "            height=\"400\"\n",
       "            src=\"https://www.youtube.com/embed/tlOIHko8ySg\"\n",
       "            frameborder=\"0\"\n",
       "            allowfullscreen\n",
       "        ></iframe>\n",
       "        "
      ],
      "text/plain": [
       "<IPython.lib.display.YouTubeVideo at 0x112446518>"
      ]
     },
     "execution_count": 5,
     "metadata": {},
     "output_type": "execute_result"
    }
   ],
   "source": [
    "from IPython.display import YouTubeVideo\n",
    "vid = 'tlOIHko8ySg'\n",
    "YouTubeVideo(id = vid, width = 850, height = 400)"
   ]
  },
  {
   "cell_type": "markdown",
   "metadata": {
    "slideshow": {
     "slide_type": "notes"
    }
   },
   "source": [
    "Another newer type of machine learning is called reinforcement learning. Unlike other types of ml, your model is only given an objective, and then it is up to the model to learn what type of behavior satisfies this objective, typically through tons of simulations.\n",
    "\n",
    "Has anyone seen the [AlphaGo](https://deepmind.com/research/alphago/) documentary that was recently on Netflix? Is anyone familiar with the board game, Go? I wasn't either. Apparently its this board games that's massively popular across the world (similar to chess.. kinda). Any ways, A few years ago, Google's Deep Mind Team train a reinforcement learning model to play the game Go, and hosted an ultimate showdown where their machine faced off against the international Go champion. Man vs. Machine. Their model won very convincingly, and since then, many have been tinkering with reinforcement learning methods.\n",
    "\n",
    "It turns out, it is difficult to successfully train a RL model in a real-world situation. RL thrives in contained situations when there are a finite amount of possible moves/outcomes. In more open-ended scenario, sometimes you end up with unintended consequences..."
   ]
  },
  {
   "cell_type": "markdown",
   "metadata": {
    "slideshow": {
     "slide_type": "slide"
    }
   },
   "source": [
    "# Common Models and Their Typical Use Cases"
   ]
  },
  {
   "cell_type": "markdown",
   "metadata": {
    "slideshow": {
     "slide_type": "notes"
    }
   },
   "source": [
    "Now, we are going to take a slightly more technical look at some common model and their potential use cases."
   ]
  },
  {
   "cell_type": "markdown",
   "metadata": {
    "slideshow": {
     "slide_type": "subslide"
    }
   },
   "source": [
    "## Anatomy of an ML Model\n",
    "\n",
    "1. Representation\n",
    "\n",
    "2. Evaluation\n",
    "\n",
    "3. Optimization"
   ]
  },
  {
   "cell_type": "markdown",
   "metadata": {
    "slideshow": {
     "slide_type": "notes"
    }
   },
   "source": [
    "For every machine learning model, whether shallow or deep can be boiled down to 3 parts. I'm going to briefly define these three parts, then we'll look at them closer in some examples.\n",
    "\n",
    "The first part is its representation. When I say representation, I'm referring to how the model takes in the data does some sort of computation with it, then outputs something, I'm talking about the formula, the math. The representation is what makes the model unique. You see, I can evalutate and optimize simple linear regression model and a deep neural network the exact same way, but it is their difference in representation that makes them so different.\n",
    "\n",
    "The second part of an ML model is its method of evaluation. It's easiest to think about this in the supervised learning setting (when our training data is labeled). The evaluation can be thought of as a function that tells us how wrong our predictions are. More specifically, it's a function that takes in our predicted label, and the actual label, compares them, then lets us know how far off we are. This is often referred to as the cost function or loss function.\n",
    "\n",
    "The third part of an ML model is it's optimization. When we talk about optimizing an model, we mean iteratively tweaking the parameters of the model, which then in turn tunes the model's output. The optimization is directly connected to cost function. If the cost function (evaluation) lets us know that our predictions were way off, then it's going to make big changes to the parameters. If our predictions were close, it will make much smaller changes.\n",
    "\n",
    "This is really worth emphasizing, because it is the basis of machine learning. Machines learn by associating a quantitative penalty to incorrect predictions. The machine then sets out to minimize the penalty, which ultimately will result in making the maximium amount of correct predictions.\n",
    "This is the essence of the current state of artificial intelligence. Basically all AI is based on this principle, everything from autonomous vehicles, to amazon’s recommendation system."
   ]
  },
  {
   "cell_type": "markdown",
   "metadata": {
    "slideshow": {
     "slide_type": "subslide"
    }
   },
   "source": [
    "## Linear Regression"
   ]
  },
  {
   "cell_type": "code",
   "execution_count": 175,
   "metadata": {
    "slideshow": {
     "slide_type": "skip"
    }
   },
   "outputs": [],
   "source": [
    "def plot_linear_regression(X, y, model):    \n",
    "    plt.subplots(figsize = (10,5))\n",
    "    xx = np.linspace(1, 5, 10)\n",
    "    yy = model.coef_[0] * xx + model.intercept_    # y = mx + b\n",
    "    plt.scatter(X,y, cmap = my_cmap)\n",
    "    plt.plot(xx, yy,  sns.xkcd_rgb[\"pale red\"], lw=3)"
   ]
  },
  {
   "cell_type": "code",
   "execution_count": 176,
   "metadata": {
    "slideshow": {
     "slide_type": "fragment"
    }
   },
   "outputs": [
    {
     "data": {
      "image/png": "[encoded data removed]",
      "text/plain": [
       "<Figure size 720x360 with 1 Axes>"
      ]
     },
     "metadata": {},
     "output_type": "display_data"
    }
   ],
   "source": [
    "# importing sklearn\n",
    "from sklearn.linear_model import LinearRegression\n",
    "\n",
    "# initializing data\n",
    "X = np.array([[1], [2], [3], [4], [5]])\n",
    "y = np.array([1.2, 1.5, 3.31, 4.4, 4.8])\n",
    "\n",
    "# initializing and fitting model\n",
    "lin_reg = LinearRegression()\n",
    "model = lin_reg.fit(X, y.reshape(-1,1))\n",
    "\n",
    "# Plotting data and linear regression line\n",
    "plot_linear_regression(X, y, model)\n",
    "#plt.savefig('Figures/lin_reg.png')"
   ]
  },
  {
   "cell_type": "markdown",
   "metadata": {
    "slideshow": {
     "slide_type": "fragment"
    }
   },
   "source": [
    "* **Representation**:\n",
    "\n",
    "$$\\hat{y} = w_0 + w_1x_1$$\n",
    "\n",
    "* **Evaluation**: Squared Error\n",
    "\n",
    "$$\\text{Squared Error}= \\left(\\hat{y} - y\\right)^2$$\n",
    "\n",
    "* **Optimization**: [MSE gradient descent visualization](https://jed-ai.github.io/py1_gd_animation/) "
   ]
  },
  {
   "cell_type": "code",
   "execution_count": 177,
   "metadata": {
    "slideshow": {
     "slide_type": "fragment"
    }
   },
   "outputs": [
    {
     "name": "stdout",
     "output_type": "stream",
     "text": [
      "Mean squared error on training set: 0.115\n"
     ]
    }
   ],
   "source": [
    "from sklearn.metrics import mean_squared_error    # squared error across entire dataset\n",
    "\n",
    "# Making predictions and evaluating\n",
    "y_pred = model.predict(X)\n",
    "print(\"Mean squared error on training set: {}\".format((mean_squared_error(y, y_pred)).round(3)))"
   ]
  },
  {
   "cell_type": "markdown",
   "metadata": {
    "slideshow": {
     "slide_type": "notes"
    }
   },
   "source": [
    "Since we have labeled data, we know that this is a supervised learning problem!\n",
    "\n",
    "Let's first talk about the notation. I don't want you to be overwhelmed with all of the notation. I'll define everything, then dig into it.\n",
    "\n",
    "* $\\hat{y}$ is the ouput of our model, the prediction\n",
    "* $w_i$ are the weights, or the parameters of the model (these are the only things that will change\n",
    "* $x_i$ are our features, they are the columns in our dataset\n",
    "\n",
    "This equation is actually just $y=mx+b$! I've chosen this notation, (1) to be consistent (I'll always use $w$ to represent the weights) and (2) this type of notation aligns well with the design of many common machine learning api's, so I think it's helpful to think about the algorithms in this fashion and (3) this notation enables us to easily extend this model to operate in multiple dimensional data.\n",
    "\n",
    "So, $y=mx+b$ is one way to look at Linear Regression's representation, another way to look at it is as the dot product of our weights, and a single row in our dataset. I think that's bit more helpful way to look at things, as the dot product will be used in basically every algorithm working with data.\n",
    "\n",
    "The metric that is typically used to evaluate the called the `mean-squared error`. All it is doing is taking the difference between your model's prediction (subtracting them), so see how far off your prediction was. Then it just squares that value so that everything is positive. Then takes the average across the entire dataset.\n",
    "\n",
    "We'll take a visual look at what the optimization does, but to really unpack all it does would require some calculus and that's a bit outside the scope of this presentation. The line/surface represents how wrong our predictions are!"
   ]
  },
  {
   "cell_type": "markdown",
   "metadata": {
    "slideshow": {
     "slide_type": "subslide"
    }
   },
   "source": [
    "## Logistic Regression"
   ]
  },
  {
   "cell_type": "code",
   "execution_count": 178,
   "metadata": {
    "slideshow": {
     "slide_type": "skip"
    }
   },
   "outputs": [],
   "source": [
    "def plot_logistic_regression(X, y, model):    \n",
    "    # create a mesh to plot in\n",
    "    h = .02  # step size in the mesh\n",
    "    x_min, x_max = X[:, 0].min() - .2 , X[:, 0].max() + .2 \n",
    "    y_min, y_max = X[:, 1].min() - .2 , X[:, 1].max() + .2\n",
    "    xx, yy = np.meshgrid(np.arange(x_min, x_max, h),\n",
    "                         np.arange(y_min, y_max, h))\n",
    "\n",
    "    # Plot the decision boundary. For that, we will assign a color to each\n",
    "    # point in the mesh [x_min, x_max]x[y_min, y_max].\n",
    "    plt.subplots(figsize = (10,5))\n",
    "    Z = model.predict(np.c_[xx.ravel(), yy.ravel()])\n",
    "    # Put the result into a color plot\n",
    "    Z = Z.reshape(xx.shape)\n",
    "    plt.contourf(xx, yy, Z, colors = [sns.xkcd_rgb[\"denim blue\"], sns.xkcd_rgb[\"denim blue\"],\n",
    "                                     sns.xkcd_rgb[\"pale red\"], sns.xkcd_rgb[\"denim blue\"]])\n",
    "\n",
    "    # plotting points\n",
    "    plt.scatter(X[:,0], X[:,1], c=y,cmap = my_cmap, edgecolor = \"black\")"
   ]
  },
  {
   "cell_type": "code",
   "execution_count": 179,
   "metadata": {
    "slideshow": {
     "slide_type": "fragment"
    }
   },
   "outputs": [
    {
     "data": {
      "image/png": "[encoded data removed]",
      "text/plain": [
       "<Figure size 720x360 with 1 Axes>"
      ]
     },
     "metadata": {},
     "output_type": "display_data"
    }
   ],
   "source": [
    "# importing sklearn\n",
    "from sklearn.linear_model import LogisticRegression\n",
    "\n",
    "# initializing data\n",
    "X = np.concatenate((customer_data.data[:,0].reshape(150,1), \n",
    "                    customer_data.data[:, 1].reshape(150,1)), axis=1)\n",
    "y = (customer_data.target != 0) * 1\n",
    "\n",
    "# fitting model\n",
    "log_reg = LogisticRegression(solver = 'liblinear', multi_class='auto')\n",
    "model = log_reg.fit(X, y)\n",
    "                             \n",
    "# plotting decision boundary\n",
    "plot_logistic_regression(X, y, model)"
   ]
  },
  {
   "cell_type": "markdown",
   "metadata": {
    "slideshow": {
     "slide_type": "fragment"
    }
   },
   "source": [
    "* **Representation**: Sigmoid Function (Given that $z= w_0+w_1x_1 + w_2x_2$)\n",
    "\n",
    "\\begin{align*}\n",
    "\\hat{y} &= \\frac{1}{1+e^{-z}}\\\\\n",
    "&= \\frac{1}{1+e^{-(w_0+w_1x_1 + w_2x_2)}}\\\\\n",
    "&= \\text{probability that given datapoint is from class 1}\n",
    "\\end{align*}\n",
    "\n",
    "* **Evaluation**: Log Loss\n",
    "\n",
    "$$ \\text{Log Loss}= \\left(-y \\log(\\hat{y})\\right) - \\left((1-y)\\log(1-\\hat{y})\\right) $$"
   ]
  },
  {
   "cell_type": "code",
   "execution_count": 180,
   "metadata": {
    "slideshow": {
     "slide_type": "fragment"
    }
   },
   "outputs": [
    {
     "name": "stdout",
     "output_type": "stream",
     "text": [
      "Mean log loss on training set: 0.23\n"
     ]
    }
   ],
   "source": [
    "from sklearn.metrics import log_loss    # log loss across entire dataset\n",
    "\n",
    "# Making predictions and evaluating\n",
    "y_pred = model.predict(X)\n",
    "print(\"Mean log loss on training set: {}\".format((log_loss(y, y_pred)).round(3)))"
   ]
  },
  {
   "cell_type": "code",
   "execution_count": 181,
   "metadata": {
    "slideshow": {
     "slide_type": "fragment"
    }
   },
   "outputs": [
    {
     "name": "stdout",
     "output_type": "stream",
     "text": [
      "              precision    recall  f1-score   support\n",
      "\n",
      "     class 0       1.00      0.98      0.99        50\n",
      "     class 1       0.99      1.00      1.00       100\n",
      "\n",
      "   micro avg       0.99      0.99      0.99       150\n",
      "   macro avg       1.00      0.99      0.99       150\n",
      "weighted avg       0.99      0.99      0.99       150\n",
      "\n"
     ]
    }
   ],
   "source": [
    "from sklearn.metrics import classification_report\n",
    "\n",
    "target_names = ['class 0', 'class 1']\n",
    "print(classification_report(y, y_pred, target_names=target_names))"
   ]
  },
  {
   "cell_type": "markdown",
   "metadata": {
    "slideshow": {
     "slide_type": "notes"
    }
   },
   "source": [
    "Logistic Regression is a supervised, classification algorithm. This is the customer data that we saw earlier and we see here that our logistic regression model drew approximately the same separating line that we did. Logistic regression is all about the sigmoid function.\n",
    "\n",
    "* $\\hat{y}$ is our model's prediction which will be a value between 0 and 1, which we can interpret as a probability that that given datapoint is from class 1.\n",
    "\n",
    "* Again, $w_i$ are the weights and $x_i$ are the features of the datapoint\n",
    "\n",
    "We see that the logistic regression's model requires that we take the dot product of our weights and a datapoint, then feed that into the Sigmoid function. We use the sigmoid function because its outputs are always between 0 and 1, which is exactly what we need for probabilities! As we can see in the evaluation phase, we use the Log Loss function, which again tells us how wrong our predictions are. Another way to look at it is as a function that returns a penalty to our algorithm pertaining to how wrong it is.\n",
    "\n",
    "So just like previously, we can look at how wrong our model was across our dataset.. (print log loss)\n",
    "Bust most often in a supervised classification problem, we're more interested in just seeing how accurate our predictions were. Sci-kit learn's has api has a nice `classification_report` print out. There's a lot going on here, but I want to draw your attention to the weighted average of precision and recall from class 0 and 1. Precision and recall are two metrics we use to measure how accurate a classifying model is, and they're subtly different. Precision = $\\frac{tp}{tp+fp}$ (Out of all the times you guessed yes, how many times were you correct?). Recall = $\\frac{tp}{tp+fn}$ (Out of all the datapoints from the positive class, how many did you guess correctly about?). In many cases, the differences between these two metrics is negligent. Where they begin to diverge is when you're dealing with imbalanced data... Share story about GR drunk crash predictions.\n",
    "\n",
    "The metric you choose to optimize on can have a huge impact on your ultimate model!"
   ]
  },
  {
   "cell_type": "markdown",
   "metadata": {
    "slideshow": {
     "slide_type": "subslide"
    }
   },
   "source": [
    "## Support Vector Machines"
   ]
  },
  {
   "cell_type": "code",
   "execution_count": 182,
   "metadata": {
    "slideshow": {
     "slide_type": "skip"
    }
   },
   "outputs": [],
   "source": [
    "def plot_svm(clf, X, y):\n",
    "    # plotting\n",
    "    plt.subplots(figsize = (10,5))\n",
    "    plt.scatter(X[:,0], X[:,1], c=y, cmap = my_cmap)\n",
    "\n",
    "\n",
    "    # Get x and y lims\n",
    "    xlim = plt.xlim()\n",
    "    ylim = plt.ylim()\n",
    "\n",
    "\n",
    "    # get the separating hyperplane\n",
    "    w = clf.coef_[0]\n",
    "    a = -w[0] / w[1]\n",
    "    xx = np.linspace(xlim[0], xlim[1], 100)\n",
    "    yy = a * xx - (clf.intercept_[0]) / w[1]\n",
    "\n",
    "    # get the parallels to the separating hyperplane that pass through the\n",
    "    # support vectors\n",
    "    b = clf.support_vectors_[0]\n",
    "    yy_down = a * xx + (b[1] - a * b[0])\n",
    "    b = clf.support_vectors_[-1]\n",
    "    yy_up = a * xx + (b[1] - a * b[0])\n",
    "\n",
    "    # plot the line, the points, and the nearest vectors to the plane\n",
    "    plt.plot(xx, yy, 'k-')\n",
    "    plt.plot(xx, yy_down, 'k--')\n",
    "    plt.plot(xx, yy_up, 'k--')\n",
    "    plt.fill_between(xx, yy_down, yy_up, edgecolor='none', color='#AAAAAA', alpha=0.3)"
   ]
  },
  {
   "cell_type": "code",
   "execution_count": 183,
   "metadata": {
    "slideshow": {
     "slide_type": "fragment"
    }
   },
   "outputs": [
    {
     "data": {
      "image/png": "[encoded data removed]",
      "text/plain": [
       "<Figure size 720x360 with 1 Axes>"
      ]
     },
     "metadata": {},
     "output_type": "display_data"
    }
   ],
   "source": [
    "from sklearn.datasets import make_blobs\n",
    "from sklearn.svm import SVC\n",
    "\n",
    "# generating dataset\n",
    "X, y = make_blobs(n_samples=100, centers=2, n_features=2, random_state=3)\n",
    "np.place(y, y==0, -1)\n",
    "\n",
    "# initializing SVM\n",
    "svm = SVC(kernel = 'linear')\n",
    "model = svm.fit(X,y)\n",
    "\n",
    "# plotting_svm\n",
    "plot_svm(model, X, y)"
   ]
  },
  {
   "cell_type": "markdown",
   "metadata": {
    "slideshow": {
     "slide_type": "fragment"
    }
   },
   "source": [
    "* **Representation**: \n",
    "\n",
    "$$w_o+w_1x_1+w_2x_2=0$$\n",
    "\n",
    "* **Evaluation**: Hinge Loss\n",
    "\n",
    "\\begin{align*}\n",
    "\\text{Hinge Loss}&= \\left[ 1 - y \\cdot \\left( \\text{dot}(w,x) \\right)\\right]_+\\\\\n",
    "&= \\left[ 1 - y \\cdot \\left( w_o+w_1x_1+w_2x_2 \\right)\\right]_+\n",
    "\\end{align*}\n",
    "\n",
    "* **Optimization**: [Stanford web demo](http://vision.stanford.edu/teaching/cs231n-demos/linear-classify/)"
   ]
  },
  {
   "cell_type": "markdown",
   "metadata": {
    "slideshow": {
     "slide_type": "notes"
    }
   },
   "source": [
    "[more explanation](https://github.com/collinprather/BDI-2018-JupyterHub/blob/master/SVM_scratch.ipynb)\n",
    "\n",
    "What a SVM does is pretty similar to logistic regression, which makes sense, because they are both alogrithms that solve supervised classification problems, but how it does it is very different. The ultimate goal of a support vector machine is to find the optimal line that maximizes the margin between the two classes of data, so it doesn't have anything to do with probabilities. (Show line and margin). It's called an SVM because the datapoints that are right on the margin are called the \"support vectors\" (point them out).\n",
    "\n",
    "Note that it may seem strange that a linear regression model and SVM's are represented in such similar ways, but that this makes sense because they both really are all about finding that optimal line! That \"optimal line\", however, serves very different purposes. Here, it's not making any predictions, just trying to separate the two classes.\n",
    "\n",
    "The hinge loss function is basically just calculating the Euclidean distance of each data point from the separating line, which we then try to maximize in the optimization phase! (show demo!)"
   ]
  },
  {
   "cell_type": "markdown",
   "metadata": {
    "slideshow": {
     "slide_type": "subslide"
    }
   },
   "source": [
    "## Detour through the Bias-Variance Trade-off"
   ]
  },
  {
   "cell_type": "markdown",
   "metadata": {
    "slideshow": {
     "slide_type": "fragment"
    }
   },
   "source": [
    "![bias-variance](Figures/bias_variance.png)"
   ]
  },
  {
   "cell_type": "markdown",
   "metadata": {
    "slideshow": {
     "slide_type": "notes"
    }
   },
   "source": [
    "The bias-variance trade off in ML is analogous to the time-space tradeoff in computer science. And this is a critical aspect to take into consideration when choosing/training a predicitive model for a given problem. These dartboards create a great analogy for understanding the bias-variance trade-off. I got this analogy from a paper written by Pedro Domingos, a professor at UW. \n",
    "\n",
    "Bias and Variance have some specific definitions in statistics, usually invlolving some greek letters like $\\sigma$ and $\\epsilon$, but in this context, they are adjectives that we use to describe the behavior of a machine learning model. \n",
    "\n",
    "For example, If I were to say that our model has high variance, then that means that its predictions would vary significantly if we were to train it on a different sample of our dataset. As we can see in the \"High Variance\" column, are spread pretty randomly across the board, there's no consistency.\n",
    "\n",
    "If I were to say that our model was highly biased, then that would mean that it’s predictions are very consistent, regardless of the sample of data that we trained it on. As we can see in this \"High Bias\" row, the darts all hit in relatively the same area (that does not necessarily mean accurate, as we see in the bottom right corner.)\n",
    "\n",
    "Generally, bias and variance are inversely related, and controlled by the complexity of our model. If it is a highly complex model, like a neural network, it's more likely to be high in variance. If you're working with a simpler model line, say, linear regression, it is more likely that your model is biased.\n",
    "\n",
    "Ultimately, our target it to have a model that is low in bias and low in variance. Top-left corner, that's a bullseye. So how do we practically do that?"
   ]
  },
  {
   "cell_type": "markdown",
   "metadata": {
    "slideshow": {
     "slide_type": "fragment"
    }
   },
   "source": [
    "* SVM's Hinge Loss function with $L_2$ regularization\n",
    "\n",
    "$$\\text{Hinge Loss}= \\left[ 1 - y \\cdot \\left( \\text{dot}(w,x) \\right)\\right]_+ + \\lambda\\sum_{i=1}^{n} w^{2}_i$$\n",
    "\n",
    "![lambda-comparisons](Figures/lambda_comparisons_sns_cmap.png)"
   ]
  },
  {
   "cell_type": "markdown",
   "metadata": {
    "slideshow": {
     "slide_type": "notes"
    }
   },
   "source": [
    "One of the most straightforward ways to control the bias-variance tradeoff is by introducing a \"regularization\" term into our loss function. I've included our same hinge loss function that we looked at above, but I've just added a regularization term to the end, the \"+ $\\lambda$ portion\" (this is called $L_2$ regularization, which is very commonly used in practice).\n",
    "\n",
    "This regularization imposed an additional constraint on the weights in our model and manipulates how they are updated. This $\\lambda$ variable ends up being a tuning parameter that can control the level of bias or variance in the model.\n",
    "\n",
    "* As $\\lambda$ gets smaller and smaller, the margin grows wider and wider (often to the point of misclassifying datapoints)\n",
    "* As $\\lambda$ gets larger and larger, the margin grows thinner and thinner (often to the point of perfectly classifying datapoints)\n",
    "\n",
    "In this simple example, these two values of $\\lambda$ change the margins and the support vectors considerably, but it doesn't actually change any of the predictions, yet, with more complicated, higher-dimensional data, that $\\lambda$ parameter can have big implications."
   ]
  },
  {
   "cell_type": "markdown",
   "metadata": {
    "slideshow": {
     "slide_type": "subslide"
    }
   },
   "source": [
    "## Neural Networks"
   ]
  },
  {
   "cell_type": "markdown",
   "metadata": {
    "slideshow": {
     "slide_type": "subslide"
    }
   },
   "source": [
    "### Convolution Neural Network (CNN)\n",
    "\n",
    "![cnn](Figures/cnn.jpeg)"
   ]
  },
  {
   "cell_type": "markdown",
   "metadata": {
    "slideshow": {
     "slide_type": "notes"
    }
   },
   "source": [
    "Convolution neural networks, or CNN's, are typically used to make predictions about image data. These types of neural nets take in the pixel values of a given image, run it through a ton of transformations and computations, and learn features about the given image (this \"feature learning\" portion is the true CNN part of it), then feed those features into a traditional neural net (the \"classification\" portion at the end) to get predictions.\n",
    "\n",
    "CNN's have had lots of success in supervised classification problems. It is the primary architecture of neural net that is used by autonomous vehicles to identify if there is a stop sign, or car, or pedestrian, etc (and that is kind of what this diagram is signifying)."
   ]
  },
  {
   "cell_type": "markdown",
   "metadata": {
    "slideshow": {
     "slide_type": "subslide"
    }
   },
   "source": [
    "### Recurrent Neural Network (RNN)\n",
    "\n",
    "![cnn](Figures/rnn.jpeg)"
   ]
  },
  {
   "cell_type": "markdown",
   "metadata": {
    "slideshow": {
     "slide_type": "notes"
    }
   },
   "source": [
    "Recurrent Neural Networks, or RNN's, are used to make predictions about sequential data. The best examples about sequential data would be time series, or text data. Any sort of data that depends on previous data. The RNN's architecture reflects this, as the output of each layer, is then the input of the next layer, as the diagonals in the diagram express.\n",
    "\n",
    "So an RNN may be used to make a 7-day forecast about the stock market. Or maybe you'll feed it a sentence in english, then it will output that exact same sentence translated into French.\n",
    "\n",
    "One great benefit of the RNN's architecture is that there is no fixed input length. With a traditional neural net, or even a CNN, your feed it a fixed input, and it gives you some fixed output. An RNN on the other hand is flexible enough to dynamically-sized inputs."
   ]
  },
  {
   "cell_type": "markdown",
   "metadata": {
    "slideshow": {
     "slide_type": "slide"
    }
   },
   "source": [
    "# What's got the ML Community Buzzing"
   ]
  },
  {
   "cell_type": "markdown",
   "metadata": {
    "slideshow": {
     "slide_type": "notes"
    }
   },
   "source": [
    "I want to end today by highlighting some events that the ML community has been buzzing about recently, and that I think are just interesting applications of deep learning.\n",
    "\n",
    "All that we've talked through today are the building blocks to these cutting-edge models as well!"
   ]
  },
  {
   "cell_type": "markdown",
   "metadata": {
    "slideshow": {
     "slide_type": "subslide"
    }
   },
   "source": [
    "## NVIDIA's GAN-Generated Faces\n",
    "\n",
    "![nvidia-gan-faces](Figures/nvidia_gan_faces.jpg)"
   ]
  },
  {
   "cell_type": "markdown",
   "metadata": {
    "slideshow": {
     "slide_type": "subslide"
    }
   },
   "source": [
    "## Code Generation using Computer Vision"
   ]
  },
  {
   "cell_type": "code",
   "execution_count": 6,
   "metadata": {
    "slideshow": {
     "slide_type": "fragment"
    }
   },
   "outputs": [
    {
     "data": {
      "image/jpeg": "[encoded data removed]",
      "text/html": [
       "\n",
       "        <iframe\n",
       "            width=\"850\"\n",
       "            height=\"400\"\n",
       "            src=\"https://www.youtube.com/embed/_oet4GOzcRQ\"\n",
       "            frameborder=\"0\"\n",
       "            allowfullscreen\n",
       "        ></iframe>\n",
       "        "
      ],
      "text/plain": [
       "<IPython.lib.display.YouTubeVideo at 0x112446a90>"
      ]
     },
     "execution_count": 6,
     "metadata": {},
     "output_type": "execute_result"
    }
   ],
   "source": [
    "from IPython.display import YouTubeVideo\n",
    "vid = '_oet4GOzcRQ'\n",
    "YouTubeVideo(id = vid, width = 850, height = 400)"
   ]
  },
  {
   "cell_type": "markdown",
   "metadata": {
    "slideshow": {
     "slide_type": "notes"
    }
   },
   "source": [
    "People could literally just draw their websites!"
   ]
  },
  {
   "cell_type": "markdown",
   "metadata": {
    "slideshow": {
     "slide_type": "subslide"
    }
   },
   "source": [
    "## Image Style Transfer\n",
    "\n",
    "![style-transfer](Figures/style_transfer.png)"
   ]
  },
  {
   "cell_type": "markdown",
   "metadata": {
    "slideshow": {
     "slide_type": "fragment"
    }
   },
   "source": [
    "### S/O to deepart.io\n",
    "\n",
    "![jeff-style-transfer](Figures/jeff_style_transfer.png)"
   ]
  },
  {
   "cell_type": "markdown",
   "metadata": {
    "slideshow": {
     "slide_type": "notes"
    }
   },
   "source": [
    "CONCLUSION\n",
    "\n",
    "All things considered, it's an exciting time in the world of ML and its as accessible as ever! I hope that your mind is beginning to think of use-cases on the projects that you're working on!"
   ]
  }
 ],
 "metadata": {
  "kernelspec": {
   "display_name": "Python 3",
   "language": "python",
   "name": "python3"
  },
  "language_info": {
   "codemirror_mode": {
    "name": "ipython",
    "version": 3
   },
   "file_extension": ".py",
   "mimetype": "text/x-python",
   "name": "python",
   "nbconvert_exporter": "python",
   "pygments_lexer": "ipython3",
   "version": "3.7.1"
  }
 },
 "nbformat": 4,
 "nbformat_minor": 2
}
